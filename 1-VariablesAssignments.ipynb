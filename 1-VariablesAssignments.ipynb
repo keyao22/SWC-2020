{
 "cells": [
  {
   "cell_type": "markdown",
   "metadata": {},
   "source": [
    "# Variables and Assignments"
   ]
  },
  {
   "cell_type": "markdown",
   "metadata": {},
   "source": [
    "## Questions\n",
    "How can I store data in programs?\n",
    "\n",
    "## Objectives\n",
    "Write programs that assign scalar (number) values to variables and perform calculations with those values.\n",
    "\n",
    "Correctly trace value changes in programs that use scalar assignment."
   ]
  },
  {
   "cell_type": "markdown",
   "metadata": {},
   "source": [
    "### Use variables to store values"
   ]
  },
  {
   "cell_type": "code",
   "execution_count": null,
   "metadata": {},
   "outputs": [],
   "source": []
  },
  {
   "cell_type": "markdown",
   "metadata": {},
   "source": [
    "### Use `print` to display values"
   ]
  },
  {
   "cell_type": "code",
   "execution_count": null,
   "metadata": {},
   "outputs": [],
   "source": []
  },
  {
   "cell_type": "markdown",
   "metadata": {},
   "source": [
    "### Variables must be created before they are used"
   ]
  },
  {
   "cell_type": "code",
   "execution_count": null,
   "metadata": {},
   "outputs": [],
   "source": []
  },
  {
   "cell_type": "code",
   "execution_count": null,
   "metadata": {},
   "outputs": [],
   "source": []
  },
  {
   "cell_type": "markdown",
   "metadata": {},
   "source": [
    "### Variables can be used in calculations."
   ]
  },
  {
   "cell_type": "code",
   "execution_count": null,
   "metadata": {},
   "outputs": [],
   "source": []
  },
  {
   "cell_type": "markdown",
   "metadata": {},
   "source": [
    "### Use an index to get a single character from a string."
   ]
  },
  {
   "cell_type": "code",
   "execution_count": 4,
   "metadata": {},
   "outputs": [
    {
     "data": {
      "image/svg+xml": [
       "<svg xmlns=\"http://www.w3.org/2000/svg\" font-family=\"monospace\" height=\"230\" width=\"1000\">\n",
       "  <rect x=\"40\" y=\"110\" width=\"48\" height=\"110\" fill=\"#b3ef54\" stroke=\"#000\"/>\n",
       "\n",
       "  <text font-size=\"60\" x=\"40\" y=\"80\"><tspan fill=\"#800080\">print</tspan>(atom_name[0])</text>\n",
       "\n",
       "  <g fill=\"#000\" font-size=\"60\" text-anchor=\"middle\">\n",
       "    <text x=\"65\" y=\"200\">h</text>\n",
       "    <text x=\"113\" y=\"200\">e</text>\n",
       "    <text x=\"161\" y=\"200\">l</text>\n",
       "    <text x=\"209\" y=\"200\">i</text>\n",
       "    <text x=\"257\" y=\"200\">u</text>\n",
       "    <text x=\"305\" y=\"200\">m</text>\n",
       "  </g>\n",
       "\n",
       "  <g fill=\"#333\" font-size=\"20\" text-anchor=\"middle\">\n",
       "    <text x=\"65\" y=\"140\">0</text>\n",
       "    <text x=\"113\" y=\"140\">1</text>\n",
       "    <text x=\"161\" y=\"140\">2</text>\n",
       "    <text x=\"209\" y=\"140\">3</text>\n",
       "    <text x=\"257\" y=\"140\">4</text>\n",
       "    <text x=\"305\" y=\"140\">5</text>\n",
       "  </g>\n",
       "</svg>"
      ],
      "text/plain": [
       "<IPython.core.display.SVG object>"
      ]
     },
     "execution_count": 4,
     "metadata": {},
     "output_type": "execute_result"
    }
   ],
   "source": [
    "from IPython.core.display import SVG\n",
    "SVG(filename='images/2_indexing.svg')"
   ]
  },
  {
   "cell_type": "code",
   "execution_count": null,
   "metadata": {},
   "outputs": [],
   "source": []
  },
  {
   "cell_type": "markdown",
   "metadata": {},
   "source": [
    "### Use a slice to get a substring."
   ]
  },
  {
   "cell_type": "code",
   "execution_count": null,
   "metadata": {},
   "outputs": [],
   "source": []
  },
  {
   "cell_type": "markdown",
   "metadata": {},
   "source": [
    "### Use the built-in function `len` to find the length of a string."
   ]
  },
  {
   "cell_type": "code",
   "execution_count": null,
   "metadata": {},
   "outputs": [],
   "source": []
  },
  {
   "cell_type": "markdown",
   "metadata": {},
   "source": [
    "### Python is case sensative"
   ]
  },
  {
   "cell_type": "code",
   "execution_count": null,
   "metadata": {},
   "outputs": [],
   "source": []
  },
  {
   "cell_type": "markdown",
   "metadata": {},
   "source": [
    "### Use meaningful variable names"
   ]
  },
  {
   "cell_type": "code",
   "execution_count": null,
   "metadata": {},
   "outputs": [],
   "source": []
  },
  {
   "cell_type": "markdown",
   "metadata": {},
   "source": [
    "## Activities\n",
    "Below are activities to check understanding"
   ]
  },
  {
   "cell_type": "markdown",
   "metadata": {},
   "source": [
    "### Swapping Values\n",
    "Fill the table showing the values of the variables in this program after each statement is executed."
   ]
  },
  {
   "cell_type": "markdown",
   "metadata": {
    "jupyter": {
     "source_hidden": true
    }
   },
   "source": [
    "```python\n",
    "# Command  # Value of x   # Value of y   # Value of swap #\n",
    "x = 1.0    #              #              #               #\n",
    "y = 3.0    #              #              #               #\n",
    "swap = x   #              #              #               #\n",
    "x = y      #              #              #               #\n",
    "y = swap   #              #              #               #\n",
    "```"
   ]
  },
  {
   "cell_type": "code",
   "execution_count": null,
   "metadata": {},
   "outputs": [],
   "source": []
  },
  {
   "cell_type": "code",
   "execution_count": null,
   "metadata": {},
   "outputs": [],
   "source": []
  }
 ],
 "metadata": {
  "kernelspec": {
   "display_name": "Python 3",
   "language": "python",
   "name": "python3"
  },
  "language_info": {
   "codemirror_mode": {
    "name": "ipython",
    "version": 3
   },
   "file_extension": ".py",
   "mimetype": "text/x-python",
   "name": "python",
   "nbconvert_exporter": "python",
   "pygments_lexer": "ipython3",
   "version": "3.8.3"
  }
 },
 "nbformat": 4,
 "nbformat_minor": 4
}
