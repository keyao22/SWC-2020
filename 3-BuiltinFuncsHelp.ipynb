{
 "cells": [
  {
   "cell_type": "markdown",
   "metadata": {},
   "source": [
    "# Built in functions and help\n",
    "## Questions\n",
    "How can I use built-in functions?\n",
    "\n",
    "How can I find out what they do?\n",
    "\n",
    "What kind of errors can occur in programs?\n",
    "\n",
    "## Objectives\n",
    "Explain the purpose of functions.\n",
    "\n",
    "Correctly call built-in Python functions.\n",
    "\n",
    "Correctly nest calls to built-in functions.\n",
    "\n",
    "Use help to display documentation for built-in functions.\n",
    "\n",
    "Correctly describe situations in which SyntaxError and NameError occur."
   ]
  },
  {
   "cell_type": "code",
   "execution_count": null,
   "metadata": {},
   "outputs": [],
   "source": []
  }
 ],
 "metadata": {
  "kernelspec": {
   "display_name": "Python 3",
   "language": "python",
   "name": "python3"
  },
  "language_info": {
   "codemirror_mode": {
    "name": "ipython",
    "version": 3
   },
   "file_extension": ".py",
   "mimetype": "text/x-python",
   "name": "python",
   "nbconvert_exporter": "python",
   "pygments_lexer": "ipython3",
   "version": "3.8.3"
  }
 },
 "nbformat": 4,
 "nbformat_minor": 4
}
